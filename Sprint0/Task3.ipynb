{
 "cells": [
  {
   "cell_type": "markdown",
   "metadata": {},
   "source": [
    "<h1 style=\"color:DodgerBlue\">Индивидальный проект</h1>"
   ]
  },
  {
   "cell_type": "markdown",
   "metadata": {},
   "source": [
    "<h2 style=\"color:DodgerBlue\">Название проекта:</h2>\n",
    "\n",
    "----\n",
    "\n",
    "### Вариант задания №13\n"
   ]
  },
  {
   "cell_type": "markdown",
   "metadata": {},
   "source": [
    "<h2 style=\"color:DodgerBlue\">Описание проекта:</h2>\n",
    "\n",
    "----\n",
    "Описание задачи:\n",
    "\n",
    "Создать базовый класс Inventory в C#, который будет представлять информацию о\n",
    "наличии товаров на складе. На основе этого класса разработать 2-3 производных\n",
    "класса, демонстрирующих принципы наследования и полиморфизма. В каждом из\n",
    "классов должны быть реализованы новые атрибуты и методы, а также\n",
    "переопределены некоторые методы базового класса для демонстрации\n",
    "полиморфизма.\n",
    "\n",
    "Требования к базовому классу Inventory:\n",
    "\n",
    "• Атрибуты: ID склада (WarehouseId), Название склада (WarehouseName),\n",
    "Общий объем хранения (StorageCapacity).\n",
    "\n",
    "• Методы:\n",
    "\n",
    "o GetStorageStatus(): метод для получения статуса доступного\n",
    "пространства на складе.\n",
    "\n",
    "o AddItem(Item item): метод для добавления товара на склад.\n",
    "\n",
    "o RemoveItem(Item item): метод для удаления товара со склада.\n",
    "\n",
    "Требования к производным классам:\n",
    "\n",
    "1. ПерсональныйСклад (PersonalInventory): Должен содержать\n",
    "дополнительные атрибуты, такие как Владелец склада (OwnerName).\n",
    "Метод GetStorageStatus() должен быть переопределен для отображения\n",
    "информации о владельце склада вместе с статусом хранения.\n",
    "2. ГрупповойСклад (GroupInventory): Должен содержать дополнительные\n",
    "атрибуты, такие как Группа товаров (ProductGroup). Метод AddItem() должен\n",
    "быть переопределен для добавления информации о группе товаров при\n",
    "добавлении нового товара.\n",
    "3. АвтоматизированныйСклад (AutomatedInventory) (если требуется третий\n",
    "класс): Должен содержать дополнительные атрибуты, такие как\n",
    "Автоматизация уровня (AutomationLevel). Метод RemoveItem() должен быть\n",
    "переопределен для добавления информации о уровне автоматизации при\n",
    "удалении товара.\n"
   ]
  },
  {
   "cell_type": "markdown",
   "metadata": {},
   "source": [
    "<h2 style=\"color:DodgerBlue\">Реализация:</h2>\n",
    "\n",
    "----"
   ]
  },
  {
   "cell_type": "code",
   "execution_count": 2,
   "metadata": {
    "dotnet_interactive": {
     "language": "csharp"
    },
    "polyglot_notebook": {
     "kernelName": "csharp"
    }
   },
   "outputs": [],
   "source": [
    "using System;\n",
    "\n",
    "public class Inventory\n",
    "{\n",
    "    public int WarehouseId { get; set; }\n",
    "    public string WarehouseName { get; set; }\n",
    "    public double StorageCapacity { get; set; }\n",
    "    public double AvailableSpace { get; set; }\n",
    "\n",
    "    public double GetStorageStatus()\n",
    "    {\n",
    "        return AvailableSpace / StorageCapacity * 100;\n",
    "    }\n",
    "\n",
    "    public void AddItem(Item item)\n",
    "    {\n",
    "        if (AvailableSpace >= item.Size)\n",
    "        {\n",
    "            AvailableSpace -= item.Size;\n",
    "            Console.WriteLine($\"{item.Name} был добавлен на склад.\");\n",
    "        }\n",
    "        else\n",
    "        {\n",
    "            Console.WriteLine(\"Недостаточно места для хранения этого предмета.\");\n",
    "        }\n",
    "    }\n",
    "\n",
    "    public void RemoveItem(Item item)\n",
    "    {\n",
    "        AvailableSpace += item.Size;\n",
    "        Console.WriteLine($\"{item.Name} был удалён со склада.\");\n",
    "    }\n",
    "}\n",
    "\n",
    "public class Item\n",
    "{\n",
    "    public string Name { get; set; }\n",
    "    public double Size { get; set; }\n",
    "}\n"
   ]
  }
 ],
 "metadata": {
  "kernelspec": {
   "display_name": ".NET (C#)",
   "language": "C#",
   "name": ".net-csharp"
  },
  "polyglot_notebook": {
   "kernelInfo": {
    "defaultKernelName": "csharp",
    "items": [
     {
      "aliases": [],
      "languageName": "csharp",
      "name": "csharp"
     }
    ]
   }
  }
 },
 "nbformat": 4,
 "nbformat_minor": 2
}
